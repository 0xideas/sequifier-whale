{
 "cells": [
  {
   "cell_type": "code",
   "execution_count": 1,
   "metadata": {},
   "outputs": [],
   "source": [
    "import pandas as pd\n",
    "import numpy as np"
   ]
  },
  {
   "cell_type": "code",
   "execution_count": 2,
   "metadata": {},
   "outputs": [],
   "source": [
    "data = pd.read_csv(\"../data/whale_annotations.csv\")"
   ]
  },
  {
   "cell_type": "code",
   "execution_count": 3,
   "metadata": {},
   "outputs": [],
   "source": [
    "ic_columns = [f\"ICI{i+1}\" for i in range(40)]\n",
    "ip_columns = [f\"IPI{i+1}\" for i in range(40)]"
   ]
  },
  {
   "cell_type": "code",
   "execution_count": 4,
   "metadata": {},
   "outputs": [],
   "source": [
    "sequences = []\n",
    "last_rec, last_whale = \"none\", -1\n",
    "sequence_id, item_position = -1, 0\n",
    "word_identifier = 1\n",
    "for _, row in data.iterrows():\n",
    "    if row[\"REC\"] != last_rec:\n",
    "        last_rec = row[\"REC\"]\n",
    "        sequence_id += 1\n",
    "        item_position = 0\n",
    "\n",
    "    word_identifier = int(1 - word_identifier)\n",
    "    for click_duration, pulse in zip(list(row[ic_columns].values), list(row[ip_columns].values)):\n",
    "        if click_duration != 0 and not pd.isnull(pulse):\n",
    "            whale_speaking = row[\"Whale\"]\n",
    "            sequences.append((sequence_id, item_position, click_duration, pulse, whale_speaking, word_identifier ))\n",
    "            new_word = 0\n",
    "            item_position += 1\n"
   ]
  },
  {
   "cell_type": "code",
   "execution_count": 5,
   "metadata": {},
   "outputs": [],
   "source": [
    "data_transformed = pd.DataFrame(sequences, columns = [\"sequenceId\", \"itemPosition\", \"interval\", \"pulse\", \"speaker\", \"word_switch\"])"
   ]
  },
  {
   "cell_type": "code",
   "execution_count": 6,
   "metadata": {},
   "outputs": [],
   "source": [
    "split2 = pd.read_csv(\"../data/whale_sequence-split2.csv\")\n",
    "split2.reset_index(drop=True).to_csv(\"../data/whale_sequence-split2.csv\", index=None)"
   ]
  },
  {
   "cell_type": "code",
   "execution_count": 7,
   "metadata": {},
   "outputs": [],
   "source": [
    "data_transformed.to_csv(\"../data/whale_sequence.csv\", index=None)"
   ]
  },
  {
   "cell_type": "code",
   "execution_count": 8,
   "metadata": {},
   "outputs": [
    {
     "data": {
      "text/plain": [
       "itemPosition\n",
       "34              14\n",
       "9               12\n",
       "14               9\n",
       "29               9\n",
       "4                7\n",
       "                ..\n",
       "99               1\n",
       "96               1\n",
       "95               1\n",
       "22               1\n",
       "4651             1\n",
       "Name: count, Length: 111, dtype: int64"
      ]
     },
     "execution_count": 8,
     "metadata": {},
     "output_type": "execute_result"
    }
   ],
   "source": [
    "data_transformed.groupby(\"sequenceId\").agg({\"itemPosition\": \"max\"}).value_counts()"
   ]
  },
  {
   "cell_type": "code",
   "execution_count": 9,
   "metadata": {},
   "outputs": [
    {
     "data": {
      "text/plain": [
       "sequenceId\n",
       "0      3\n",
       "1      3\n",
       "2      3\n",
       "3      3\n",
       "4      3\n",
       "      ..\n",
       "228    3\n",
       "229    3\n",
       "230    2\n",
       "231    3\n",
       "232    2\n",
       "Name: speaker, Length: 233, dtype: int64"
      ]
     },
     "execution_count": 9,
     "metadata": {},
     "output_type": "execute_result"
    }
   ],
   "source": [
    "data_transformed.groupby(\"sequenceId\").agg({\"itemPosition\": \"max\", \"speaker\": lambda x: len(np.unique(x))})[\"speaker\"]"
   ]
  }
 ],
 "metadata": {
  "kernelspec": {
   "display_name": "dev",
   "language": "python",
   "name": "python3"
  },
  "language_info": {
   "codemirror_mode": {
    "name": "ipython",
    "version": 3
   },
   "file_extension": ".py",
   "mimetype": "text/x-python",
   "name": "python",
   "nbconvert_exporter": "python",
   "pygments_lexer": "ipython3",
   "version": "3.11.8"
  }
 },
 "nbformat": 4,
 "nbformat_minor": 2
}
